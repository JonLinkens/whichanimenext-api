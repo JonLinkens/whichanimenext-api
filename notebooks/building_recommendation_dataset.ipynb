{
 "cells": [
  {
   "cell_type": "code",
   "execution_count": null,
   "metadata": {
    "id": "Ph_ftRP2Kj-k"
   },
   "outputs": [],
   "source": [
    "import os\n",
    "import numpy as np\n",
    "import pandas as pd \n",
    "import warnings\n",
    "import scipy as sp \n",
    "\n",
    "#ML model\n",
    "from sklearn.metrics.pairwise import cosine_similarity\n",
    "\n",
    "#default theme and settings\n",
    "pd.options.display.max_columns\n",
    "\n",
    "#handle warnings\n",
    "warnings.filterwarnings(\"always\")\n",
    "warnings.filterwarnings(\"ignore\")"
   ]
  },
  {
   "cell_type": "markdown",
   "metadata": {},
   "source": [
    "Initial datasets were downloaded from [https://www.kaggle.com/hernan4444/anime-recommendation-database-2020](https://www.kaggle.com/hernan4444/anime-recommendation-database-2020)\n",
    "\n",
    "Where ``rating_df`` is the ``rating_complete.csv`` dataset, and ``anime_df`` is the ``anime.csv`` set."
   ]
  },
  {
   "cell_type": "code",
   "execution_count": 44,
   "metadata": {
    "id": "dEN27TiZS0jk"
   },
   "outputs": [],
   "source": [
    "# reading into dataframes\n",
    "rating_df = pd.read_csv(\"rating_complete.csv.zip\")\n",
    "\n",
    "anime_df = pd.read_csv(\"anime.csv.zip\")"
   ]
  },
  {
   "cell_type": "markdown",
   "metadata": {},
   "source": [
    "As seen by the shapes of the datasets, there is a lot of data to be processed:"
   ]
  },
  {
   "cell_type": "code",
   "execution_count": 45,
   "metadata": {
    "colab": {
     "base_uri": "https://localhost:8080/"
    },
    "id": "88WeOMjW6LI4",
    "outputId": "615d2d60-3cc5-474e-8863-851b636771bf"
   },
   "outputs": [
    {
     "name": "stdout",
     "output_type": "stream",
     "text": [
      "(57633278, 3)\n"
     ]
    }
   ],
   "source": [
    "# initial shapes\n",
    "print(rating_df.shape)\n",
    "print(anime_df.shape)"
   ]
  },
  {
   "cell_type": "markdown",
   "metadata": {},
   "source": [
    "However, after removing any MAL entries that weren't a TV series, and any ratings that weren't related to titles in the anime dataset, there was considerably less data."
   ]
  },
  {
   "cell_type": "code",
   "execution_count": 47,
   "metadata": {
    "colab": {
     "base_uri": "https://localhost:8080/"
    },
    "id": "B7UxNVyWa8iN",
    "outputId": "14d2e948-440a-4a42-d2fa-3f2a586cb75d"
   },
   "outputs": [
    {
     "name": "stdout",
     "output_type": "stream",
     "text": [
      "(4996, 35)\n"
     ]
    }
   ],
   "source": [
    "# selecting only TV listings(anime series, not movies or manga etc.)\n",
    "anime_df = anime_df.loc[anime_df['Type'] == 'TV']\n",
    "print(anime_df.shape)"
   ]
  },
  {
   "cell_type": "code",
   "execution_count": 48,
   "metadata": {
    "colab": {
     "base_uri": "https://localhost:8080/"
    },
    "id": "kIV4Y5aPbCT6",
    "outputId": "5e284aaf-3973-4611-8c16-a72ac4641e28"
   },
   "outputs": [
    {
     "name": "stdout",
     "output_type": "stream",
     "text": [
      "(38541711, 3)\n"
     ]
    }
   ],
   "source": [
    "# selecting only ratings for the anime that is in the other dataset\n",
    "rating_df = rating_df.loc[rating_df['anime_id'].isin(anime_df['MAL_ID'])]\n",
    "print(rating_df.shape)"
   ]
  },
  {
   "cell_type": "markdown",
   "metadata": {},
   "source": [
    "Some preprocessing had to be done to make the datasets even smaller - merging the full datasets would take a very long time or run out of memory to use."
   ]
  },
  {
   "cell_type": "code",
   "execution_count": 49,
   "metadata": {
    "colab": {
     "base_uri": "https://localhost:8080/"
    },
    "id": "unBnr7XXVNI-",
    "outputId": "d11aeb37-8c93-4349-ce07-fa9e686f7f40"
   },
   "outputs": [
    {
     "name": "stdout",
     "output_type": "stream",
     "text": [
      "Index(['user_id', 'anime_id', 'rating', 'MAL_ID', 'Name', 'Score'], dtype='object')\n"
     ]
    }
   ],
   "source": [
    "# before merging, select only the columns we need\n",
    "anime1 = anime_df[['MAL_ID', 'Name', 'Score']]\n",
    "\n",
    "rating1 = rating_df[['user_id', 'anime_id', 'rating']]\n",
    "\n",
    "# merging the two dataframes\n",
    "merged1 = rating_df.merge(anime1, left_on='anime_id', right_on='MAL_ID', suffixes=['_user', ''])\n",
    "\n",
    "# making it only uid, name and rating\n",
    "rated_anime = merged1[['user_id', 'Name', 'Score']]\n"
   ]
  },
  {
   "cell_type": "code",
   "execution_count": 51,
   "metadata": {
    "colab": {
     "base_uri": "https://localhost:8080/",
     "height": 676
    },
    "id": "cQMYFTKoSiSU",
    "outputId": "1f430671-103a-4071-b4c0-b6c6f92de620"
   },
   "outputs": [
    {
     "data": {
      "text/html": [
       "<div>\n",
       "<style scoped>\n",
       "    .dataframe tbody tr th:only-of-type {\n",
       "        vertical-align: middle;\n",
       "    }\n",
       "\n",
       "    .dataframe tbody tr th {\n",
       "        vertical-align: top;\n",
       "    }\n",
       "\n",
       "    .dataframe thead th {\n",
       "        text-align: right;\n",
       "    }\n",
       "</style>\n",
       "<table border=\"1\" class=\"dataframe\">\n",
       "  <thead>\n",
       "    <tr style=\"text-align: right;\">\n",
       "      <th></th>\n",
       "      <th>user_id</th>\n",
       "      <th>Name</th>\n",
       "      <th>Score</th>\n",
       "    </tr>\n",
       "  </thead>\n",
       "  <tbody>\n",
       "    <tr>\n",
       "      <th>25777818</th>\n",
       "      <td>163200</td>\n",
       "      <td>Seikon no Qwaser II</td>\n",
       "      <td>6.39</td>\n",
       "    </tr>\n",
       "    <tr>\n",
       "      <th>5302259</th>\n",
       "      <td>103945</td>\n",
       "      <td>Shingeki no Kyojin Season 2</td>\n",
       "      <td>8.45</td>\n",
       "    </tr>\n",
       "    <tr>\n",
       "      <th>14420142</th>\n",
       "      <td>169411</td>\n",
       "      <td>Kore wa Zombie Desu ka?</td>\n",
       "      <td>7.43</td>\n",
       "    </tr>\n",
       "    <tr>\n",
       "      <th>1073832</th>\n",
       "      <td>171283</td>\n",
       "      <td>Made in Abyss</td>\n",
       "      <td>8.74</td>\n",
       "    </tr>\n",
       "    <tr>\n",
       "      <th>30653463</th>\n",
       "      <td>147849</td>\n",
       "      <td>Shinchou Yuusha: Kono Yuusha ga Ore Tueee Kuse...</td>\n",
       "      <td>7.54</td>\n",
       "    </tr>\n",
       "    <tr>\n",
       "      <th>6069564</th>\n",
       "      <td>2931</td>\n",
       "      <td>Sankarea</td>\n",
       "      <td>7.36</td>\n",
       "    </tr>\n",
       "    <tr>\n",
       "      <th>11295749</th>\n",
       "      <td>226869</td>\n",
       "      <td>D-Frag!</td>\n",
       "      <td>7.58</td>\n",
       "    </tr>\n",
       "    <tr>\n",
       "      <th>21838099</th>\n",
       "      <td>193859</td>\n",
       "      <td>Free!: Eternal Summer</td>\n",
       "      <td>7.68</td>\n",
       "    </tr>\n",
       "    <tr>\n",
       "      <th>8170009</th>\n",
       "      <td>248903</td>\n",
       "      <td>Working!!</td>\n",
       "      <td>7.7</td>\n",
       "    </tr>\n",
       "    <tr>\n",
       "      <th>21098176</th>\n",
       "      <td>32656</td>\n",
       "      <td>Majimoji Rurumo</td>\n",
       "      <td>6.85</td>\n",
       "    </tr>\n",
       "    <tr>\n",
       "      <th>23945354</th>\n",
       "      <td>277257</td>\n",
       "      <td>Overlord II</td>\n",
       "      <td>7.78</td>\n",
       "    </tr>\n",
       "    <tr>\n",
       "      <th>19597891</th>\n",
       "      <td>279836</td>\n",
       "      <td>Usagi Drop</td>\n",
       "      <td>8.43</td>\n",
       "    </tr>\n",
       "    <tr>\n",
       "      <th>4652746</th>\n",
       "      <td>267219</td>\n",
       "      <td>One Punch Man 2nd Season</td>\n",
       "      <td>7.41</td>\n",
       "    </tr>\n",
       "    <tr>\n",
       "      <th>28912804</th>\n",
       "      <td>292058</td>\n",
       "      <td>Yuyushiki</td>\n",
       "      <td>7.38</td>\n",
       "    </tr>\n",
       "    <tr>\n",
       "      <th>16310154</th>\n",
       "      <td>321544</td>\n",
       "      <td>Kono Minikuku mo Utsukushii Sekai</td>\n",
       "      <td>6.76</td>\n",
       "    </tr>\n",
       "    <tr>\n",
       "      <th>15688147</th>\n",
       "      <td>32921</td>\n",
       "      <td>Kanokon</td>\n",
       "      <td>6.46</td>\n",
       "    </tr>\n",
       "    <tr>\n",
       "      <th>2715488</th>\n",
       "      <td>272728</td>\n",
       "      <td>Fullmetal Alchemist: Brotherhood</td>\n",
       "      <td>9.19</td>\n",
       "    </tr>\n",
       "    <tr>\n",
       "      <th>1936753</th>\n",
       "      <td>325612</td>\n",
       "      <td>Boku dake ga Inai Machi</td>\n",
       "      <td>8.37</td>\n",
       "    </tr>\n",
       "    <tr>\n",
       "      <th>35665207</th>\n",
       "      <td>271802</td>\n",
       "      <td>Anne Happy♪</td>\n",
       "      <td>6.98</td>\n",
       "    </tr>\n",
       "    <tr>\n",
       "      <th>22696836</th>\n",
       "      <td>181178</td>\n",
       "      <td>Drifters</td>\n",
       "      <td>7.94</td>\n",
       "    </tr>\n",
       "  </tbody>\n",
       "</table>\n",
       "</div>"
      ],
      "text/plain": [
       "          user_id                                               Name Score\n",
       "25777818   163200                                Seikon no Qwaser II  6.39\n",
       "5302259    103945                        Shingeki no Kyojin Season 2  8.45\n",
       "14420142   169411                            Kore wa Zombie Desu ka?  7.43\n",
       "1073832    171283                                      Made in Abyss  8.74\n",
       "30653463   147849  Shinchou Yuusha: Kono Yuusha ga Ore Tueee Kuse...  7.54\n",
       "6069564      2931                                           Sankarea  7.36\n",
       "11295749   226869                                            D-Frag!  7.58\n",
       "21838099   193859                              Free!: Eternal Summer  7.68\n",
       "8170009    248903                                          Working!!   7.7\n",
       "21098176    32656                                    Majimoji Rurumo  6.85\n",
       "23945354   277257                                        Overlord II  7.78\n",
       "19597891   279836                                         Usagi Drop  8.43\n",
       "4652746    267219                           One Punch Man 2nd Season  7.41\n",
       "28912804   292058                                          Yuyushiki  7.38\n",
       "16310154   321544                  Kono Minikuku mo Utsukushii Sekai  6.76\n",
       "15688147    32921                                            Kanokon  6.46\n",
       "2715488    272728                   Fullmetal Alchemist: Brotherhood  9.19\n",
       "1936753    325612                            Boku dake ga Inai Machi  8.37\n",
       "35665207   271802                                        Anne Happy♪  6.98\n",
       "22696836   181178                                           Drifters  7.94"
      ]
     },
     "execution_count": 51,
     "metadata": {},
     "output_type": "execute_result"
    }
   ],
   "source": [
    "# A quick sample to check that everything is looking good\n",
    "rated_anime.sample(20)"
   ]
  },
  {
   "cell_type": "code",
   "execution_count": 52,
   "metadata": {
    "id": "Eno5vGh_THQS"
   },
   "outputs": [],
   "source": [
    "# Dropping any scores that are not numeric - some are listed as \"Unknown\"\n",
    "rated_anime = rated_anime[pd.to_numeric(rated_anime['Score'], errors='coerce').notnull()]"
   ]
  },
  {
   "cell_type": "code",
   "execution_count": 53,
   "metadata": {
    "colab": {
     "base_uri": "https://localhost:8080/"
    },
    "id": "KJLBXcN8UCzT",
    "outputId": "d2b25014-b517-42ad-d25a-a9641a489fde"
   },
   "outputs": [
    {
     "data": {
      "text/plain": [
       "user_id      int64\n",
       "Name        object\n",
       "Score      float64\n",
       "dtype: object"
      ]
     },
     "execution_count": 53,
     "metadata": {},
     "output_type": "execute_result"
    }
   ],
   "source": [
    "# Converting the Score column to float from object\n",
    "rated_anime['Score'] = rated_anime['Score'].astype(float)\n",
    "rated_anime.dtypes"
   ]
  },
  {
   "cell_type": "code",
   "execution_count": 54,
   "metadata": {
    "id": "LSSvo548Vpe7"
   },
   "outputs": [
    {
     "data": {
      "text/html": [
       "<div>\n",
       "<style scoped>\n",
       "    .dataframe tbody tr th:only-of-type {\n",
       "        vertical-align: middle;\n",
       "    }\n",
       "\n",
       "    .dataframe tbody tr th {\n",
       "        vertical-align: top;\n",
       "    }\n",
       "\n",
       "    .dataframe thead th {\n",
       "        text-align: right;\n",
       "    }\n",
       "</style>\n",
       "<table border=\"1\" class=\"dataframe\">\n",
       "  <thead>\n",
       "    <tr style=\"text-align: right;\">\n",
       "      <th>Name</th>\n",
       "      <th>.hack//Roots</th>\n",
       "      <th>.hack//Sign</th>\n",
       "      <th>.hack//Tasogare no Udewa Densetsu</th>\n",
       "      <th>009-1</th>\n",
       "      <th>07-Ghost</th>\n",
       "      <th>100% Pascal-sensei (TV)</th>\n",
       "      <th>100-man no Inochi no Ue ni Ore wa Tatteiru</th>\n",
       "      <th>11eyes</th>\n",
       "      <th>12-sai.: Chicchana Mune no Tokimeki</th>\n",
       "      <th>12-sai.: Chicchana Mune no Tokimeki 2nd Season</th>\n",
       "      <th>...</th>\n",
       "      <th>ef: A Tale of Memories.</th>\n",
       "      <th>gdMen</th>\n",
       "      <th>gdgd Fairies</th>\n",
       "      <th>gdgd Fairies 2</th>\n",
       "      <th>iDOLM@STER Xenoglossia</th>\n",
       "      <th>number24</th>\n",
       "      <th>s.CRY.ed</th>\n",
       "      <th>xxxHOLiC</th>\n",
       "      <th>xxxHOLiC Kei</th>\n",
       "      <th>ēlDLIVE</th>\n",
       "    </tr>\n",
       "    <tr>\n",
       "      <th>user_id</th>\n",
       "      <th></th>\n",
       "      <th></th>\n",
       "      <th></th>\n",
       "      <th></th>\n",
       "      <th></th>\n",
       "      <th></th>\n",
       "      <th></th>\n",
       "      <th></th>\n",
       "      <th></th>\n",
       "      <th></th>\n",
       "      <th></th>\n",
       "      <th></th>\n",
       "      <th></th>\n",
       "      <th></th>\n",
       "      <th></th>\n",
       "      <th></th>\n",
       "      <th></th>\n",
       "      <th></th>\n",
       "      <th></th>\n",
       "      <th></th>\n",
       "      <th></th>\n",
       "    </tr>\n",
       "  </thead>\n",
       "  <tbody>\n",
       "    <tr>\n",
       "      <th>0</th>\n",
       "      <td>NaN</td>\n",
       "      <td>NaN</td>\n",
       "      <td>NaN</td>\n",
       "      <td>NaN</td>\n",
       "      <td>NaN</td>\n",
       "      <td>NaN</td>\n",
       "      <td>NaN</td>\n",
       "      <td>NaN</td>\n",
       "      <td>NaN</td>\n",
       "      <td>NaN</td>\n",
       "      <td>...</td>\n",
       "      <td>NaN</td>\n",
       "      <td>NaN</td>\n",
       "      <td>NaN</td>\n",
       "      <td>NaN</td>\n",
       "      <td>NaN</td>\n",
       "      <td>NaN</td>\n",
       "      <td>NaN</td>\n",
       "      <td>NaN</td>\n",
       "      <td>NaN</td>\n",
       "      <td>NaN</td>\n",
       "    </tr>\n",
       "    <tr>\n",
       "      <th>1</th>\n",
       "      <td>NaN</td>\n",
       "      <td>NaN</td>\n",
       "      <td>NaN</td>\n",
       "      <td>NaN</td>\n",
       "      <td>NaN</td>\n",
       "      <td>NaN</td>\n",
       "      <td>NaN</td>\n",
       "      <td>NaN</td>\n",
       "      <td>NaN</td>\n",
       "      <td>NaN</td>\n",
       "      <td>...</td>\n",
       "      <td>NaN</td>\n",
       "      <td>NaN</td>\n",
       "      <td>NaN</td>\n",
       "      <td>NaN</td>\n",
       "      <td>NaN</td>\n",
       "      <td>NaN</td>\n",
       "      <td>NaN</td>\n",
       "      <td>NaN</td>\n",
       "      <td>NaN</td>\n",
       "      <td>NaN</td>\n",
       "    </tr>\n",
       "    <tr>\n",
       "      <th>2</th>\n",
       "      <td>NaN</td>\n",
       "      <td>NaN</td>\n",
       "      <td>NaN</td>\n",
       "      <td>NaN</td>\n",
       "      <td>NaN</td>\n",
       "      <td>NaN</td>\n",
       "      <td>NaN</td>\n",
       "      <td>NaN</td>\n",
       "      <td>NaN</td>\n",
       "      <td>NaN</td>\n",
       "      <td>...</td>\n",
       "      <td>NaN</td>\n",
       "      <td>NaN</td>\n",
       "      <td>NaN</td>\n",
       "      <td>NaN</td>\n",
       "      <td>NaN</td>\n",
       "      <td>NaN</td>\n",
       "      <td>NaN</td>\n",
       "      <td>NaN</td>\n",
       "      <td>NaN</td>\n",
       "      <td>NaN</td>\n",
       "    </tr>\n",
       "    <tr>\n",
       "      <th>3</th>\n",
       "      <td>NaN</td>\n",
       "      <td>NaN</td>\n",
       "      <td>NaN</td>\n",
       "      <td>NaN</td>\n",
       "      <td>NaN</td>\n",
       "      <td>NaN</td>\n",
       "      <td>NaN</td>\n",
       "      <td>NaN</td>\n",
       "      <td>NaN</td>\n",
       "      <td>NaN</td>\n",
       "      <td>...</td>\n",
       "      <td>NaN</td>\n",
       "      <td>NaN</td>\n",
       "      <td>NaN</td>\n",
       "      <td>NaN</td>\n",
       "      <td>NaN</td>\n",
       "      <td>NaN</td>\n",
       "      <td>NaN</td>\n",
       "      <td>NaN</td>\n",
       "      <td>NaN</td>\n",
       "      <td>NaN</td>\n",
       "    </tr>\n",
       "    <tr>\n",
       "      <th>4</th>\n",
       "      <td>NaN</td>\n",
       "      <td>NaN</td>\n",
       "      <td>NaN</td>\n",
       "      <td>NaN</td>\n",
       "      <td>NaN</td>\n",
       "      <td>NaN</td>\n",
       "      <td>NaN</td>\n",
       "      <td>NaN</td>\n",
       "      <td>NaN</td>\n",
       "      <td>NaN</td>\n",
       "      <td>...</td>\n",
       "      <td>NaN</td>\n",
       "      <td>NaN</td>\n",
       "      <td>NaN</td>\n",
       "      <td>NaN</td>\n",
       "      <td>NaN</td>\n",
       "      <td>NaN</td>\n",
       "      <td>NaN</td>\n",
       "      <td>8.01</td>\n",
       "      <td>8.25</td>\n",
       "      <td>NaN</td>\n",
       "    </tr>\n",
       "  </tbody>\n",
       "</table>\n",
       "<p>5 rows × 3770 columns</p>\n",
       "</div>"
      ],
      "text/plain": [
       "Name     .hack//Roots  .hack//Sign  .hack//Tasogare no Udewa Densetsu  009-1  \\\n",
       "user_id                                                                        \n",
       "0                 NaN          NaN                                NaN    NaN   \n",
       "1                 NaN          NaN                                NaN    NaN   \n",
       "2                 NaN          NaN                                NaN    NaN   \n",
       "3                 NaN          NaN                                NaN    NaN   \n",
       "4                 NaN          NaN                                NaN    NaN   \n",
       "\n",
       "Name     07-Ghost  100% Pascal-sensei (TV)  \\\n",
       "user_id                                      \n",
       "0             NaN                      NaN   \n",
       "1             NaN                      NaN   \n",
       "2             NaN                      NaN   \n",
       "3             NaN                      NaN   \n",
       "4             NaN                      NaN   \n",
       "\n",
       "Name     100-man no Inochi no Ue ni Ore wa Tatteiru  11eyes  \\\n",
       "user_id                                                       \n",
       "0                                               NaN     NaN   \n",
       "1                                               NaN     NaN   \n",
       "2                                               NaN     NaN   \n",
       "3                                               NaN     NaN   \n",
       "4                                               NaN     NaN   \n",
       "\n",
       "Name     12-sai.: Chicchana Mune no Tokimeki  \\\n",
       "user_id                                        \n",
       "0                                        NaN   \n",
       "1                                        NaN   \n",
       "2                                        NaN   \n",
       "3                                        NaN   \n",
       "4                                        NaN   \n",
       "\n",
       "Name     12-sai.: Chicchana Mune no Tokimeki 2nd Season  ...  \\\n",
       "user_id                                                  ...   \n",
       "0                                                   NaN  ...   \n",
       "1                                                   NaN  ...   \n",
       "2                                                   NaN  ...   \n",
       "3                                                   NaN  ...   \n",
       "4                                                   NaN  ...   \n",
       "\n",
       "Name     ef: A Tale of Memories.  gdMen  gdgd Fairies  gdgd Fairies 2  \\\n",
       "user_id                                                                 \n",
       "0                            NaN    NaN           NaN             NaN   \n",
       "1                            NaN    NaN           NaN             NaN   \n",
       "2                            NaN    NaN           NaN             NaN   \n",
       "3                            NaN    NaN           NaN             NaN   \n",
       "4                            NaN    NaN           NaN             NaN   \n",
       "\n",
       "Name     iDOLM@STER Xenoglossia  number24  s.CRY.ed  xxxHOLiC  xxxHOLiC Kei  \\\n",
       "user_id                                                                       \n",
       "0                           NaN       NaN       NaN       NaN           NaN   \n",
       "1                           NaN       NaN       NaN       NaN           NaN   \n",
       "2                           NaN       NaN       NaN       NaN           NaN   \n",
       "3                           NaN       NaN       NaN       NaN           NaN   \n",
       "4                           NaN       NaN       NaN      8.01          8.25   \n",
       "\n",
       "Name     ēlDLIVE  \n",
       "user_id           \n",
       "0            NaN  \n",
       "1            NaN  \n",
       "2            NaN  \n",
       "3            NaN  \n",
       "4            NaN  \n",
       "\n",
       "[5 rows x 3770 columns]"
      ]
     },
     "execution_count": 54,
     "metadata": {},
     "output_type": "execute_result"
    }
   ],
   "source": [
    "# making a pivot table for similarity calculations\n",
    "pivot = rated_anime.pivot_table(index=['user_id'], columns=['Name'], values='Score')\n",
    "pivot.head()"
   ]
  },
  {
   "cell_type": "code",
   "execution_count": 55,
   "metadata": {
    "id": "YideMaGGV-bF"
   },
   "outputs": [],
   "source": [
    "# normalise values\n",
    "pivot_n = pivot.apply(lambda x: (x-np.mean(x))/(np.max(x)-np.min(x)), axis=1)\n",
    "\n",
    "# convert NaN values to 0\n",
    "pivot_n.fillna(0, inplace=True)\n",
    "\n",
    "# transpose pivot and drop columns with 0 values (no rating)\n",
    "pivot_n = pivot_n.T\n",
    "pivot_n = pivot_n.loc[:, (pivot_n != 0).any(axis=0)]\n",
    "\n",
    "# convert to sparse matrix so we can do similarity computation\n",
    "piv_sparse = sp.sparse.csr_matrix(pivot_n.values)"
   ]
  },
  {
   "cell_type": "code",
   "execution_count": 56,
   "metadata": {
    "id": "WRJHQZMyW2kw"
   },
   "outputs": [],
   "source": [
    "# cosine similarity based on the pivot table sparse matrix\n",
    "anime_similarity = cosine_similarity(piv_sparse)\n",
    "\n",
    "# putting that into a dataframe\n",
    "ani_sim_df = pd.DataFrame(anime_similarity, index = pivot_n.index, columns = pivot_n.index)"
   ]
  },
  {
   "cell_type": "markdown",
   "metadata": {},
   "source": [
    "At this point, the dataset is cleaned and filled with cosine similarity values that allow us to make recommendations. From here, we can export the dataframe to a csv file, compressed using gzip, for use in our api."
   ]
  },
  {
   "cell_type": "code",
   "execution_count": null,
   "metadata": {
    "id": "Uut9jS1LXDHe"
   },
   "outputs": [],
   "source": [
    "ani_sim_df.to_csv('anime_similarity.csv.gz', compression=\"gzip\")"
   ]
  }
 ],
 "metadata": {
  "colab": {
   "collapsed_sections": [],
   "name": "anime_recommendation_2020.ipynb",
   "provenance": []
  },
  "kernelspec": {
   "display_name": "Python 3 (ipykernel)",
   "language": "python",
   "name": "python3"
  },
  "language_info": {
   "codemirror_mode": {
    "name": "ipython",
    "version": 3
   },
   "file_extension": ".py",
   "mimetype": "text/x-python",
   "name": "python",
   "nbconvert_exporter": "python",
   "pygments_lexer": "ipython3",
   "version": "3.10.0"
  }
 },
 "nbformat": 4,
 "nbformat_minor": 4
}
